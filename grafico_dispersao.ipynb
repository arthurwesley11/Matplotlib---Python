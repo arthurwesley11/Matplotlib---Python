{
  "nbformat": 4,
  "nbformat_minor": 0,
  "metadata": {
    "colab": {
      "name": "Untitled0.ipynb",
      "provenance": [],
      "authorship_tag": "ABX9TyMEM1D6zjWDzbSvA1rRlRSI",
      "include_colab_link": true
    },
    "kernelspec": {
      "name": "python3",
      "display_name": "Python 3"
    }
  },
  "cells": [
    {
      "cell_type": "markdown",
      "metadata": {
        "id": "view-in-github",
        "colab_type": "text"
      },
      "source": [
        "<a href=\"https://colab.research.google.com/github/gilissantos/Matplotlib---Python/blob/master/grafico_dispersao.ipynb\" target=\"_parent\"><img src=\"https://colab.research.google.com/assets/colab-badge.svg\" alt=\"Open In Colab\"/></a>"
      ]
    },
    {
      "cell_type": "markdown",
      "metadata": {
        "id": "UQDSPQSI46Hr",
        "colab_type": "text"
      },
      "source": [
        "<h1 align=\"center\">Gráfico de Dispersão - Python/Matplotlib</h1>\n",
        "<p>\n",
        "O gráfico de Dispersão é utilizado par representar a relaão entre duas variáveis. Por exemplo em feriados as vendas são maiores do que nos dias úteis ou quanto mais descontos nos produtos mais vendas etc.\n",
        "Criar este tipo de gráfico com com Matplotlib é uma tarefa simples, basta informar os valores de x e y ou mais variáveis se necessário.\n",
        "Para maiores informações acesso o portal <a href=\"https://matplotlib.org/3.2.1/gallery/misc/hyperlinks_sgskip.html#sphx-glr-gallery-misc-hyperlinks-sgskip-py\">oficial da bibilioteca Matplotlib</a>. Vamos ao código!\n",
        "</p>"
      ]
    },
    {
      "cell_type": "code",
      "metadata": {
        "id": "yRlmytom5IgA",
        "colab_type": "code",
        "colab": {}
      },
      "source": [
        "# Importando as bibliotecas Matplotlib, Numpy e Random:\n",
        "\n",
        "import matplotlib.pyplot as plt\n",
        "import numpy as np\n",
        "import random"
      ],
      "execution_count": 0,
      "outputs": []
    },
    {
      "cell_type": "code",
      "metadata": {
        "id": "7blYmAhO5NZL",
        "colab_type": "code",
        "colab": {}
      },
      "source": [
        "# Criando as variáveis x, y e z com valores aleatórios(de 0 a 20), os arrays terão 20 posições:\n",
        "\n",
        "x = np.random.randint(20, size=(20))\n",
        "y = np.random.randint(20, size=(20))\n",
        "z = np.random.randint(20, size=(20))"
      ],
      "execution_count": 0,
      "outputs": []
    },
    {
      "cell_type": "code",
      "metadata": {
        "id": "908tVCWc5qJv",
        "colab_type": "code",
        "colab": {
          "base_uri": "https://localhost:8080/",
          "height": 352
        },
        "outputId": "d8e69221-e8c0-45a2-95b3-6651c183a252"
      },
      "source": [
        "fig = plt.figure()\n",
        "ax = fig.add_axes([0,0,1,1])\n",
        "ax.scatter(x, y, color=\"red\")\n",
        "ax.scatter(z, y, color=\"blue\")\n",
        "ax.set_title(\"Gráfico de Dispersão\")\n",
        "plt.xlim(0, 20)\n",
        "ax.set_xticks([0, 5, 10, 15, 20])\n",
        "ax.set_yticks([0, 5, 10, 15, 20])\n",
        "plt.ylim(0, 20)\n",
        "ax.grid(True)\n",
        "plt.show()"
      ],
      "execution_count": 4,
      "outputs": [
        {
          "output_type": "display_data",
          "data": {
            "image/png": "[encoded data removed]",
            "text/plain": [
              "<Figure size 432x288 with 1 Axes>"
            ]
          },
          "metadata": {
            "tags": [],
            "needs_background": "light"
          }
        }
      ]
    }
  ]
}