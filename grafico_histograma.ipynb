{
  "nbformat": 4,
  "nbformat_minor": 0,
  "metadata": {
    "colab": {
      "name": "Welcome To Colaboratory",
      "provenance": [],
      "collapsed_sections": [],
      "toc_visible": true,
      "include_colab_link": true
    },
    "kernelspec": {
      "display_name": "Python 3",
      "name": "python3"
    }
  },
  "cells": [
    {
      "cell_type": "markdown",
      "metadata": {
        "id": "view-in-github",
        "colab_type": "text"
      },
      "source": [
        "<a href=\"https://colab.research.google.com/github/gilissantos/Matplotlib---Python/blob/master/grafico_histograma.ipynb\" target=\"_parent\"><img src=\"https://colab.research.google.com/assets/colab-badge.svg\" alt=\"Open In Colab\"/></a>"
      ]
    },
    {
      "cell_type": "markdown",
      "metadata": {
        "id": "esKNyd1LPBq0",
        "colab_type": "text"
      },
      "source": [
        "<h1 align=\"center\">Gráfico de Histograma - Python/Matplotlib</h1>\n",
        "\n",
        "<p>\n",
        "O gráfico de Histograma representa a frequência/distribuição de um conjunto de dados, por exemplo quantos alunos estão acima, abaixo ou igual a média.\n",
        "Para maiores informações sobre sobre gráfico de histograma, acesse o <a href=\"https://matplotlib.org/3.2.1/api/_as_gen/matplotlib.pyplot.hist.html\">portal oficial da biblioteca Matplotlib</a>. Vamos ao código.\n",
        "</p>"
      ]
    },
    {
      "cell_type": "code",
      "metadata": {
        "id": "QoOmWqBuRG_8",
        "colab_type": "code",
        "colab": {}
      },
      "source": [
        "# Importando as bibliotecas Pandas, Numpy e Matplotlib:\n",
        "\n",
        "import matplotlib.pyplot as plt\n",
        "import numpy as np\n",
        "import random "
      ],
      "execution_count": 0,
      "outputs": []
    },
    {
      "cell_type": "code",
      "metadata": {
        "id": "CoWjHnThRTr3",
        "colab_type": "code",
        "colab": {
          "base_uri": "https://localhost:8080/",
          "height": 102
        },
        "outputId": "cb8f150a-c231-45df-b707-67188d1b6f8b"
      },
      "source": [
        "# Criando a variável vendas com valores aleatórios com uma amostra de 100 valores:\n",
        "\n",
        "venda = np.random.randint(10, size=(100))\n",
        "venda"
      ],
      "execution_count": 2,
      "outputs": [
        {
          "output_type": "execute_result",
          "data": {
            "text/plain": [
              "array([2, 9, 5, 3, 8, 2, 2, 3, 7, 5, 4, 7, 6, 1, 9, 1, 4, 0, 6, 3, 9, 0,\n",
              "       0, 5, 2, 9, 3, 1, 1, 2, 5, 3, 0, 8, 2, 4, 4, 8, 4, 6, 3, 4, 0, 4,\n",
              "       0, 1, 8, 2, 3, 4, 5, 4, 6, 3, 8, 5, 5, 3, 2, 6, 4, 5, 5, 0, 0, 4,\n",
              "       3, 4, 6, 2, 4, 7, 7, 5, 1, 2, 8, 5, 7, 0, 1, 4, 4, 1, 6, 9, 3, 0,\n",
              "       0, 7, 6, 3, 2, 3, 8, 9, 3, 0, 0, 1])"
            ]
          },
          "metadata": {
            "tags": []
          },
          "execution_count": 2
        }
      ]
    },
    {
      "cell_type": "code",
      "metadata": {
        "id": "UrWM55gESb4I",
        "colab_type": "code",
        "colab": {
          "base_uri": "https://localhost:8080/",
          "height": 366
        },
        "outputId": "979aac03-e718-4d41-ad89-61e8a210136c"
      },
      "source": [
        "fig = plt.figure()\n",
        "ax = fig.add_axes([0,0,1,1])\n",
        "ax.hist(venda, bins=10)\n",
        "ax.set_title(\"Gráfico de Histograma\")\n",
        "ax.set_xlabel(\"Vendas\")\n",
        "ax.set_ylabel(\"Frequência\")\n",
        "ax.set_yticks([0, 5, 10, 15, 20])\n",
        "ax.set_ylim(0, 20)\n",
        "plt.show()"
      ],
      "execution_count": 6,
      "outputs": [
        {
          "output_type": "display_data",
          "data": {
            "image/png": "[encoded data removed]",
            "text/plain": [
              "<Figure size 432x288 with 1 Axes>"
            ]
          },
          "metadata": {
            "tags": [],
            "needs_background": "light"
          }
        }
      ]
    }
  ]
}