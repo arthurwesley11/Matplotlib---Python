'''

A função grid() por padrão não possui um valor padrão, basta invocá-la que as linhas serão adicionadas, porém com alguns parâmetros podemos escolher a cor, tipo e a largura da linha:


color="": define a cor das linhas do grid.

ls="": define o tipo de linha.

lw="": define a largura das linhas.


Obs: ls significa line style (estilo da linha), e lw line width (espessura da linha).

'''

import matplotlib.pyplot as plt

# Exemplo sem o Grid.
plt.plot()
plt.show()

# Exemplo com Grid default, ou seja, estilo padrão.
plt.plot()
plt.grid()
plt.show()

# Exemplo com a cor das linhas do Grid.
plt.plot()
plt.grid(color="c")
plt.show()

# Exemplo com a espessura das linhas do Grid.
plt.plot()
plt.grid(lw=2.5)
plt.show()