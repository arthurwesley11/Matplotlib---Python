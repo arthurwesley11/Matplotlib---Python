{
  "nbformat": 4,
  "nbformat_minor": 0,
  "metadata": {
    "colab": {
      "name": "grafico_area.ipynb",
      "provenance": [],
      "authorship_tag": "ABX9TyOcQeTlWbQh36Oqbmb+CDJ4",
      "include_colab_link": true
    },
    "kernelspec": {
      "name": "python3",
      "display_name": "Python 3"
    }
  },
  "cells": [
    {
      "cell_type": "markdown",
      "metadata": {
        "id": "view-in-github",
        "colab_type": "text"
      },
      "source": [
        "<a href=\"https://colab.research.google.com/github/gilissantos/Matplotlib---Python/blob/master/grafico_area.ipynb\" target=\"_parent\"><img src=\"https://colab.research.google.com/assets/colab-badge.svg\" alt=\"Open In Colab\"/></a>"
      ]
    },
    {
      "cell_type": "markdown",
      "metadata": {
        "id": "TbZo95Kblpef",
        "colab_type": "text"
      },
      "source": [
        "<h1 align=\"center\">Gráfico de Área - Python/Matplotlib</h1>\n",
        "\n",
        "<p>\n",
        "O gráfico de <strong>Área</strong> é a <strong>representação acumulada de um gráfico de linhas ao longo de um determinado período</strong>, ou seja, a área possui o total de <strong>X</strong> valores no período <strong>Y</strong>, por exemplo no dia 01 o valor máximo de uma ação na bolsa de valores atingiu 60 mil pontos e no dia 02 o máximo é de 90 mil pontos, em ambos a área terá uma cor uniforme para representar a alta e a baxia de acordo com a data, sendo assim o comportamento das ações em um período. \n",
        "Para maiores informações sobre gráfico de área consulte o portal oficial da biblioteca Matplotlib. Vamos ao código.\n",
        "</p>"
      ]
    },
    {
      "cell_type": "code",
      "metadata": {
        "id": "EYSa7oxdoCDl",
        "colab_type": "code",
        "colab": {}
      },
      "source": [
        "# Importando a biblioteca Maptplotlib e a função pyplot:\n",
        "\n",
        "import matplotlib.pyplot as plt"
      ],
      "execution_count": 0,
      "outputs": []
    },
    {
      "cell_type": "code",
      "metadata": {
        "id": "4kJuOeLcojw6",
        "colab_type": "code",
        "colab": {}
      },
      "source": [
        "# Vamos criar as variáveis vendas e ano, onde vendas será o nosso eixo Y e ano será o nosso eixo X, caso queira pode usar data frame:\n",
        "\n",
        "vendas = [10, 5, 15, 5, 15, 10, 5, 5, 10, 5]\n",
        "ano = [\"2000\", \"2002\", \"2004\", \"2006\", \"2008\", \"2010\", \"2012\", \"2014\", \"2016\", \"2018\"] "
      ],
      "execution_count": 0,
      "outputs": []
    },
    {
      "cell_type": "code",
      "metadata": {
        "id": "DMblLoA2r7vH",
        "colab_type": "code",
        "colab": {
          "base_uri": "https://localhost:8080/",
          "height": 366
        },
        "outputId": "94fb0d76-3c8f-4a6d-9385-7acad6d82c82"
      },
      "source": [
        "# Criando o gráfico de Área:\n",
        "\n",
        "fig = plt.figure()\n",
        "ax = fig.add_axes([0,0,1,1])\n",
        "ax.fill_between(ano, vendas)\n",
        "ax.set_title(\"Vendas - De 2000 a 2018\")\n",
        "ax.set_xlabel(\"Anos - Bienal\")\n",
        "ax.set_ylabel(\"Vendas\")\n",
        "ax.set_ylim(0, 20)\n",
        "ax.set_yticks([0, 5, 10, 15, 20])\n",
        "plt.grid(True)\n",
        "plt.show()"
      ],
      "execution_count": 9,
      "outputs": [
        {
          "output_type": "display_data",
          "data": {
            "image/png": "[encoded data removed]",
            "text/plain": [
              "<Figure size 432x288 with 1 Axes>"
            ]
          },
          "metadata": {
            "tags": [],
            "needs_background": "light"
          }
        }
      ]
    }
  ]
}