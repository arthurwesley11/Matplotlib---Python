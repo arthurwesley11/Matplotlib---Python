{
  "nbformat": 4,
  "nbformat_minor": 0,
  "metadata": {
    "colab": {
      "name": "Copy of Welcome To Colaboratory",
      "provenance": [],
      "collapsed_sections": [],
      "include_colab_link": true
    },
    "kernelspec": {
      "display_name": "Python 3",
      "name": "python3"
    }
  },
  "cells": [
    {
      "cell_type": "markdown",
      "metadata": {
        "id": "view-in-github",
        "colab_type": "text"
      },
      "source": [
        "<a href=\"https://colab.research.google.com/github/gilissantos/Matplotlib---Python/blob/master/Grafico_linha_Matplotlib.ipynb\" target=\"_parent\"><img src=\"https://colab.research.google.com/assets/colab-badge.svg\" alt=\"Open In Colab\"/></a>"
      ]
    },
    {
      "cell_type": "markdown",
      "metadata": {
        "colab_type": "text",
        "id": "5fCEDCU_qrC0"
      },
      "source": [
        "<img alt=\"Colaboratory logo\" height=\"45px\" src=\"https://banner2.cleanpng.com/20180412/kye/kisspng-python-programming-language-computer-programming-language-5acfdc3636bac7.8891188615235717662242.jpg\" align=\"left\" hspace=\"10px\" vspace=\"0px\"></p>\n",
        "\n",
        "<h1 align=\"center\">Gráfico de linha com Python/Matplotlib</h1>\n",
        "\n",
        "<br>\n",
        "<p>\n",
        "Criar um <strong>gráfico de linha</strong> é uma das tarefas mais simples da biblioteca <strong>Matplotlib</strong>, neste exemplo vamos criar um gráfico das vendas ao longo dos anos de uma determinada empresa fictícia.\n",
        "Vamos ao código.\n",
        "</p>"
      ]
    },
    {
      "cell_type": "markdown",
      "metadata": {
        "id": "tSilp7QC2oH4",
        "colab_type": "text"
      },
      "source": [
        "<p>\n",
        "O gráfico de linha é utilizado para exibir uma série de valores temporal, ou seja, mostra o comportamento de um determinado valor em um período, que pode ser min, hora, dia, semana, mês, ano e assim sucessivamente. Para realizar o exemplo a seguir pode consultar a <a href=\"https://matplotlib.org/3.2.1/tutorials/introductory/pyplot.html#sphx-glr-tutorials-introductory-pyplot-py\">Documentação oficial da biblioteca Matplotlib</a>.\n",
        "</p>"
      ]
    },
    {
      "cell_type": "markdown",
      "metadata": {
        "id": "SWIPQsth7Htp",
        "colab_type": "text"
      },
      "source": [
        "<h2 align=\"center\">Criando um gráfio de linhas</h2>"
      ]
    },
    {
      "cell_type": "code",
      "metadata": {
        "id": "HUqzQ9xz75aX",
        "colab_type": "code",
        "colab": {}
      },
      "source": [
        "# Primeiramente vamos plotar o gráfico na mesma página do navegador/browser\n",
        "%matplotlib inline"
      ],
      "execution_count": 0,
      "outputs": []
    },
    {
      "cell_type": "code",
      "metadata": {
        "id": "GstfbFMM8JF6",
        "colab_type": "code",
        "colab": {}
      },
      "source": [
        "# Importando as bibliotecas: Matplotlib e Pandas\n",
        "import matplotlib.pyplot as plt\n",
        "import pandas as pd "
      ],
      "execution_count": 0,
      "outputs": []
    },
    {
      "cell_type": "code",
      "metadata": {
        "id": "Rt-dNAnP8eNk",
        "colab_type": "code",
        "colab": {
          "base_uri": "https://localhost:8080/",
          "height": 204
        },
        "outputId": "f57c1b71-fde1-4a5e-a2c4-eb88d5dbe0b1"
      },
      "source": [
        "# Crie um data frame conforme abaixo:\n",
        "\n",
        "vendasAnual = {\n",
        "                \"vendas\": [205.5, 167.7, 125.3, 97.0, 88.9],\n",
        "               \"ano\": [\"2000\", \"2001\", \"2002\", \"2003\", \"2004\"]\n",
        "              }\n",
        "\n",
        "df = pd.DataFrame(vendasAnual) # df é abreviação de Data Frame, porém pode escolher qualquer nome ou codinome.\n",
        "\n",
        "df"
      ],
      "execution_count": 3,
      "outputs": [
        {
          "output_type": "execute_result",
          "data": {
            "text/html": [
              "<div>\n",
              "<style scoped>\n",
              "    .dataframe tbody tr th:only-of-type {\n",
              "        vertical-align: middle;\n",
              "    }\n",
              "\n",
              "    .dataframe tbody tr th {\n",
              "        vertical-align: top;\n",
              "    }\n",
              "\n",
              "    .dataframe thead th {\n",
              "        text-align: right;\n",
              "    }\n",
              "</style>\n",
              "<table border=\"1\" class=\"dataframe\">\n",
              "  <thead>\n",
              "    <tr style=\"text-align: right;\">\n",
              "      <th></th>\n",
              "      <th>vendas</th>\n",
              "      <th>ano</th>\n",
              "    </tr>\n",
              "  </thead>\n",
              "  <tbody>\n",
              "    <tr>\n",
              "      <th>0</th>\n",
              "      <td>205.5</td>\n",
              "      <td>2000</td>\n",
              "    </tr>\n",
              "    <tr>\n",
              "      <th>1</th>\n",
              "      <td>167.7</td>\n",
              "      <td>2001</td>\n",
              "    </tr>\n",
              "    <tr>\n",
              "      <th>2</th>\n",
              "      <td>125.3</td>\n",
              "      <td>2002</td>\n",
              "    </tr>\n",
              "    <tr>\n",
              "      <th>3</th>\n",
              "      <td>97.0</td>\n",
              "      <td>2003</td>\n",
              "    </tr>\n",
              "    <tr>\n",
              "      <th>4</th>\n",
              "      <td>88.9</td>\n",
              "      <td>2004</td>\n",
              "    </tr>\n",
              "  </tbody>\n",
              "</table>\n",
              "</div>"
            ],
            "text/plain": [
              "   vendas   ano\n",
              "0   205.5  2000\n",
              "1   167.7  2001\n",
              "2   125.3  2002\n",
              "3    97.0  2003\n",
              "4    88.9  2004"
            ]
          },
          "metadata": {
            "tags": []
          },
          "execution_count": 3
        }
      ]
    },
    {
      "cell_type": "code",
      "metadata": {
        "id": "kWVhr7vZ83TX",
        "colab_type": "code",
        "colab": {
          "base_uri": "https://localhost:8080/",
          "height": 295
        },
        "outputId": "323ffd0b-7290-4843-ce00-abf0700eb8b5"
      },
      "source": [
        "# Plotando o gárfico de Linha\n",
        "\n",
        "plt.plot(df[\"ano\"], df[\"vendas\"], color=\"darkgreen\") \n",
        "plt.title(\"Vendas por ano\") \n",
        "plt.xlabel(\"Anos\")\n",
        "plt.ylabel(\"Vendas em R$\")\n",
        "plt.grid(True)\n",
        "plt.show()"
      ],
      "execution_count": 4,
      "outputs": [
        {
          "output_type": "display_data",
          "data": {
            "image/png": "[encoded data removed]",
            "text/plain": [
              "<Figure size 432x288 with 1 Axes>"
            ]
          },
          "metadata": {
            "tags": [],
            "needs_background": "light"
          }
        }
      ]
    }
  ]
}