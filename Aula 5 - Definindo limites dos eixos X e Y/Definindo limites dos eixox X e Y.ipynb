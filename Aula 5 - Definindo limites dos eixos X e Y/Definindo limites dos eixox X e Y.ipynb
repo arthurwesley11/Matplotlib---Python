#Para este exemplo não necessitamos de dados para gerar os valores dos eixos X e Y.
import matplotlib.pyplot as plt

#Plotando gráfico sem dados:
plt.plot()
plt.xlim(0,5)
plt.ylim(0,5)
plt.xlabel("Escala de X")
plt.ylabel("Escala de Y")
plt.show()