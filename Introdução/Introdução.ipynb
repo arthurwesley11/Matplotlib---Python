<h1 align="center">Introdução a visualização de Dados - Matplotlib / Python</h1>
<br>

<p>
    Seja bem vindo a este material básico para visualização de dados com a famosa biblioteca <strong>Matplotlib</strong> de plotagem em 2D e 3D, porém neste curso utilizaremos apenas gráficos em 2D.
</p>
<p>
    A linguagem Python vem crescendo a cada dia, a maior parte desta ascensão é a adesão dos profissionais de grandes empreass com o uso dos pacotes para computação científica e análise de dados.
</p>
<p>
    Nese curso iremos abordar superficialmente as bibliotecas Pandas e Numpy com apenas algumas funções para manipular os dados, para mais detalhes acesse os links oficiais:
</p>
<p>
    <strong>Pandas:  </strong><a href="https://pandas.pydata.org/">https://pandas.pydata.org/</a><br>
    <strong>Numpy:  </strong><a href="https://numpy.org/">https://numpy.org/</a>
</p>