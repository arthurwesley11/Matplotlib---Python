import pandas as pd

df = pd.read_csv("Documents/cars.csv", sep=";")

df= pd.DataFrame(df)

df