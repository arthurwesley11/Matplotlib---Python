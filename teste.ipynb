import matplotlib.pyplot as plt

x = 2
y = 5
z = 9

dados = [x, y, z]

plt.plot(dados)
plt.show()