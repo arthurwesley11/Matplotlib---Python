'''

Aula 1 - Abrir arquivo CSV e XLS/XLSX 


Neste exemplo vamos importar dados de arquivos no formato csv e xlsx para a linguagem Python ler os dados destes arquivos.
Vamos utilizar a biblioteca Pandas para importar os dataset's e manipular os dados.
Nas próximas aulas vamos usar como exemplos bases de dados armazenados em arqivos do tipo CSV que serão disponibilizados no repositório do GitHub, no link: https://github.com/gilissantos/Matplotlib---Python.


Para mais informações sobre a bibliotecas Pandas acesse os links:

https://pandas.pydata.org/

https://github.com/Zurubabel/Pandas_BR

'''

#1º Passo: Importar a biblioteca Pandas para abrir os arquivos no formato CSV e XLSX através das funções read_csv() e read_xlsx().
import pandas as pd


#2º Passo: Criar um objeto com o nome df (abreviação de data frame) e atribuir a função read_csv() e read_xlsx() como valor do mesmo, passamos dois parâmetros para na função: "endereço/nome e tipo do arquivo + o tipo de separador".
#Obs: Pode criar o objeto e nomear da forma que desejar.

df = pd.read_csv("Documents/cars.csv", sep=";")


#3º Passo: Transformar o arquivo importado em uma Data Frame com a função DataFrame(), vamos passar o objeto df como parâmetro.
df= pd.DataFrame(df)

#4º Passo: Para exibir o Data Frame, basta digitar o nome do objeto criado, neste exemplo nomeamos como df.
df


#Repetindo os mesmos passos, porém com dataset de um arquivo do tipo xlsx.

dtf = pd.read_excel("Documents/cars.xls")
dtf = pd.DataFrame(dtf)
dtf
