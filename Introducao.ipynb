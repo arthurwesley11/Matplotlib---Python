# Para iniciar o primeiro exemplo, vamos importar as bibilotecas Matplotlib.pyplot e Pandas para manipular o dataset.

#Importar o dataset com a fun��o read_csv() ou read_xlsx, passamos dois argumentos:   
#1� endere�o do diret�rio onde o arquivo est� armazenado mais o nome e o formato do arquivo.
#2� informar qual o tipo de tabula��o do par�metro sep="".

dados = pd.read_csv("Documents/nba.csv", sep=";") # Criamos o objeto dados e atribu�mos o dataset ao mesmo.

#O dataset foi importado e vamos transform�-lo em um Data Frame para facilitar a manipula��o dos dados, com a fun��o DataFrame() e vamos passar como par�metro o objeto que criamos e nomeamos como dados.
#Obs: Pode criar um objeto com o nome que desejar.


df = pd.DataFrame(dados) # Criamos um novo objeto chamado df para ser o nosso Data Frame.


#Para visualizar o Data Frame com linhas e colunas, de forma tabular, digitamos o nome do data frame + um ponto + a fun��o head().
#Obs: Por padr�o a fun��o head() exibe o cabe�alho e as 5 primeiras linhas do Data Frame.

df.head()

#Caso queira visualizar todos as linhas do data frame, basta digitar o nome do data frame sem a fun��o head(), por�m se tiver muitas linhas o navegador n�o renderizar todas as linhas e colunas(caso tenha mais de 12 colunas), vai exibir duas partes: as primeiras 30 linhas inclu�ndo o cabe�alho e as 30 e �ltimas linhas.

df

#Para criar um gr�fico utilizamos a fun��o plot() que gera um gr�fico simples de linha e a fun��o show() que exibe o gr�fico.
#No exemplo abaixo vamos usar apenas a coluna Age como par�metro para plotar o gr�fico.

plt.plot(df["Age"])
plt.show()