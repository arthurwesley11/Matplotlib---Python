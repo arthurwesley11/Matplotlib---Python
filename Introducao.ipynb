# Para iniciar o primeiro exemplo, vamos importar as bibilotecas Matplotlib.pyplot e Pandas para manipular o dataset.

#Importar o dataset com a função read_csv() ou read_xlsx, passamos dois argumentos:   
#1º endereço do diretório onde o arquivo está armazenado mais o nome e o formato do arquivo.
#2º informar qual o tipo de tabulação do parâmetro sep="".

dados = pd.read_csv("nba.csv", sep=";") # Criamos o objeto dados e atribuímos o dataset ao mesmo.

#O dataset foi importado e vamos transformá-lo em um Data Frame para facilitar a manipulação dos dados, com a função DataFrame() e vamos passar como parâmetro o objeto que criamos e nomeamos como dados.
#Obs: Pode criar um objeto com o nome que desejar.


df = pd.DataFrame(dados) # Criamos um novo objeto chamado df para ser o nosso Data Frame.


#Para visualizar o Data Frame com linhas e colunas, de forma tabular, digitamos o nome do data frame + um ponto + a função head().
#Obs: Por padrão a função head() exibe o cabeçalho e as 5 primeiras linhas do Data Frame.

df.head()

#Caso queira visualizar todos as linhas do data frame, basta digitar o nome do data frame sem a função head(), porém se tiver muitas linhas o navegador não renderizar todas as linhas e colunas(caso tenha mais de 12 colunas), vai exibir duas partes: as primeiras 30 linhas incluíndo o cabeçalho e as 30 e últimas linhas.

df

#Para criar um gráfico utilizamos a função plot() que gera um gráfico simples de linha e a função show() que exibe o gráfico.
#No exemplo abaixo vamos usar apenas a coluna Age como parâmetro para plotar o gráfico.

plt.plot(df["Age"])
plt.show()
