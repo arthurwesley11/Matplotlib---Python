#Importar a biblioteca Matplotlib
import matplotlib.pyplot as plt

#2º Passo: Vamos criar um vetor com 5 valores distintos e nomear como x.
x = [1, 3, 5, 2, 4]

#3º Passo: A função plot() gera um simples gráfico de linha, e função show() exibe o gráfico sem descrição/observação da linguagem.

plt.plot(x)
plt.show() #A função Show() exibe o gráfico sem as informações de saída(tipo, tamanho etc).