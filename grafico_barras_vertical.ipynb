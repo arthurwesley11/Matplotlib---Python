{
  "nbformat": 4,
  "nbformat_minor": 0,
  "metadata": {
    "colab": {
      "name": "grafico_barras_vertical.ipynb",
      "provenance": [],
      "authorship_tag": "ABX9TyNN5rQchSyToDVZq7ACRf1w",
      "include_colab_link": true
    },
    "kernelspec": {
      "name": "python3",
      "display_name": "Python 3"
    }
  },
  "cells": [
    {
      "cell_type": "markdown",
      "metadata": {
        "id": "view-in-github",
        "colab_type": "text"
      },
      "source": [
        "<a href=\"https://colab.research.google.com/github/gilissantos/Matplotlib---Python/blob/master/grafico_barras_vertical.ipynb\" target=\"_parent\"><img src=\"https://colab.research.google.com/assets/colab-badge.svg\" alt=\"Open In Colab\"/></a>"
      ]
    },
    {
      "cell_type": "markdown",
      "metadata": {
        "id": "XSw1CKkqVNxr",
        "colab_type": "text"
      },
      "source": [
        "<h1 align=\"center\">Gráfico de barras vertical - Python/Matplotlib</h1>\n",
        "\n",
        "<p>\n",
        "O gráfigo de barras veritical possui as mesmas características de barras do tipo horizontal, devemos nos atentar apenas com os eixos X e Y, pois invertem de acordo com a orientação das Barras, criar este tipo de visualização com a biblioteca Matplotlib é simples e prática, porém tem vários parâmetros avançados que não serão abordados neste exemplo. \n",
        "</p>\n",
        "<p>\n",
        "Mais informações acesse o <a href=\"https://matplotlib.org/api/_as_gen/matplotlib.pyplot.bar.html#matplotlib.pyplot.bar\">portal oficial da Matplotlib</a>, neste link.\n",
        "</p>"
      ]
    },
    {
      "cell_type": "code",
      "metadata": {
        "id": "i-iZAqZ1XU6U",
        "colab_type": "code",
        "colab": {}
      },
      "source": [
        "# Importando as bibliotecas Pandas, Matplotlib e a função pyplot:\n",
        "\n",
        "import pandas as pd\n",
        "import matplotlib.pyplot as plt"
      ],
      "execution_count": 0,
      "outputs": []
    },
    {
      "cell_type": "code",
      "metadata": {
        "id": "t0W169yjXdMV",
        "colab_type": "code",
        "colab": {
          "base_uri": "https://localhost:8080/",
          "height": 297
        },
        "outputId": "e0087adf-f2ef-403d-bace-7a477839b3da"
      },
      "source": [
        "# Criando o Data Frame de títulos da Copa do Mundo de futebol:\n",
        "\n",
        "copas = {\n",
        "            \"selecao\": [\"Brasil\", \"Itália\", \"Alemanha\", \"Argentina\", \"Uruguai\", \"França\", \"Espanha\", \"Inglaterra\"], \n",
        "            \"titulo\": [5, 4, 4, 2, 2, 2, 1, 1]\n",
        "        } \n",
        "\n",
        "df = pd.DataFrame(copas) # df é o codinome de Data Frame\n",
        "\n",
        "df\n",
        "\n"
      ],
      "execution_count": 2,
      "outputs": [
        {
          "output_type": "execute_result",
          "data": {
            "text/html": [
              "<div>\n",
              "<style scoped>\n",
              "    .dataframe tbody tr th:only-of-type {\n",
              "        vertical-align: middle;\n",
              "    }\n",
              "\n",
              "    .dataframe tbody tr th {\n",
              "        vertical-align: top;\n",
              "    }\n",
              "\n",
              "    .dataframe thead th {\n",
              "        text-align: right;\n",
              "    }\n",
              "</style>\n",
              "<table border=\"1\" class=\"dataframe\">\n",
              "  <thead>\n",
              "    <tr style=\"text-align: right;\">\n",
              "      <th></th>\n",
              "      <th>selecao</th>\n",
              "      <th>titulo</th>\n",
              "    </tr>\n",
              "  </thead>\n",
              "  <tbody>\n",
              "    <tr>\n",
              "      <th>0</th>\n",
              "      <td>Brasil</td>\n",
              "      <td>5</td>\n",
              "    </tr>\n",
              "    <tr>\n",
              "      <th>1</th>\n",
              "      <td>Itália</td>\n",
              "      <td>4</td>\n",
              "    </tr>\n",
              "    <tr>\n",
              "      <th>2</th>\n",
              "      <td>Alemanha</td>\n",
              "      <td>4</td>\n",
              "    </tr>\n",
              "    <tr>\n",
              "      <th>3</th>\n",
              "      <td>Argentina</td>\n",
              "      <td>2</td>\n",
              "    </tr>\n",
              "    <tr>\n",
              "      <th>4</th>\n",
              "      <td>Uruguai</td>\n",
              "      <td>2</td>\n",
              "    </tr>\n",
              "    <tr>\n",
              "      <th>5</th>\n",
              "      <td>França</td>\n",
              "      <td>2</td>\n",
              "    </tr>\n",
              "    <tr>\n",
              "      <th>6</th>\n",
              "      <td>Espanha</td>\n",
              "      <td>1</td>\n",
              "    </tr>\n",
              "    <tr>\n",
              "      <th>7</th>\n",
              "      <td>Inglaterra</td>\n",
              "      <td>1</td>\n",
              "    </tr>\n",
              "  </tbody>\n",
              "</table>\n",
              "</div>"
            ],
            "text/plain": [
              "      selecao  titulo\n",
              "0      Brasil       5\n",
              "1      Itália       4\n",
              "2    Alemanha       4\n",
              "3   Argentina       2\n",
              "4     Uruguai       2\n",
              "5      França       2\n",
              "6     Espanha       1\n",
              "7  Inglaterra       1"
            ]
          },
          "metadata": {
            "tags": []
          },
          "execution_count": 2
        }
      ]
    },
    {
      "cell_type": "code",
      "metadata": {
        "id": "79YPd1ocXknV",
        "colab_type": "code",
        "colab": {
          "base_uri": "https://localhost:8080/",
          "height": 366
        },
        "outputId": "645992ca-aa74-4a73-b59b-909081fb990c"
      },
      "source": [
        "# Criando o gráfico de Barras Verical:\n",
        "\n",
        "fig = plt.figure(figsize=(8,4))\n",
        "ax = fig.add_axes([0,0,1,1])\n",
        "ax.bar(df[\"selecao\"], df[\"titulo\"], color=\"lightseagreen\")\n",
        "ax.set_title(\"Campeões da Copa do Mundo de Futebol\")\n",
        "ax.set_xlabel(\"Seleções\")\n",
        "ax.set_ylabel(\"Qtde - Títulos\")\n",
        "plt.show()"
      ],
      "execution_count": 8,
      "outputs": [
        {
          "output_type": "display_data",
          "data": {
            "image/png": "[encoded data removed]",
            "text/plain": [
              "<Figure size 576x288 with 1 Axes>"
            ]
          },
          "metadata": {
            "tags": [],
            "needs_background": "light"
          }
        }
      ]
    }
  ]
}